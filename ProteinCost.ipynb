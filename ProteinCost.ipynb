{
  "nbformat": 4,
  "nbformat_minor": 0,
  "metadata": {
    "colab": {
      "provenance": [],
      "authorship_tag": "ABX9TyMX3WKUxWf2VzFkvcN7qs84",
      "include_colab_link": true
    },
    "kernelspec": {
      "name": "python3",
      "display_name": "Python 3"
    },
    "language_info": {
      "name": "python"
    }
  },
  "cells": [
    {
      "cell_type": "markdown",
      "metadata": {
        "id": "view-in-github",
        "colab_type": "text"
      },
      "source": [
        "<a href=\"https://colab.research.google.com/github/joeneb24/Protein-Cost/blob/main/ProteinCost.ipynb\" target=\"_parent\"><img src=\"https://colab.research.google.com/assets/colab-badge.svg\" alt=\"Open In Colab\"/></a>"
      ]
    },
    {
      "cell_type": "code",
      "execution_count": null,
      "metadata": {
        "id": "g0ZhVvQi0oQy"
      },
      "outputs": [],
      "source": [
        "import matplotlib.pyplot as plt\n",
        "import pandas as pd\n",
        "import numpy as np\n",
        "import seaborn as sns"
      ]
    },
    {
      "cell_type": "code",
      "source": [
        "filename = 'https://docs.google.com/spreadsheets/d/e/2PACX-1vS7E5FEZMO0MuAilJmW3MAzsFAWUuQBZOsjNdKQNgEHiY1OPoXexqYYdSDz5gNoFxgL0TnMpQx0Gp9Y/pub?gid=1547901154&single=true&output=csv'\n",
        "df = pd.read_csv(filename)\n",
        "df.info()\n",
        "df.head()"
      ],
      "metadata": {
        "colab": {
          "base_uri": "https://localhost:8080/",
          "height": 449
        },
        "id": "iSq3DLVR0uAz",
        "outputId": "207d7e9e-f9bc-4454-abf3-c4c86b075608"
      },
      "execution_count": null,
      "outputs": [
        {
          "output_type": "stream",
          "name": "stdout",
          "text": [
            "<class 'pandas.core.frame.DataFrame'>\n",
            "RangeIndex: 22 entries, 0 to 21\n",
            "Data columns (total 7 columns):\n",
            " #   Column                                     Non-Null Count  Dtype \n",
            "---  ------                                     --------------  ----- \n",
            " 0   Protein Source                             22 non-null     object\n",
            " 1   Cost per 20 Grams of Protein (US Dollars)  22 non-null     object\n",
            " 2   Cost per package                           22 non-null     object\n",
            " 3   Total Protein per package (g)              22 non-null     int64 \n",
            " 4   Vegetarian?                                22 non-null     object\n",
            " 5   Vegan?                                     22 non-null     object\n",
            " 6   Notes                                      2 non-null      object\n",
            "dtypes: int64(1), object(6)\n",
            "memory usage: 1.3+ KB\n"
          ]
        },
        {
          "output_type": "execute_result",
          "data": {
            "text/plain": [
              "           Protein Source Cost per 20 Grams of Protein (US Dollars)  \\\n",
              "0               Skim Milk                                     $0.65   \n",
              "1  Chicken Legs (bone-in)                                     $0.65   \n",
              "2                 Peanuts                                     $0.68   \n",
              "3              Whole Milk                                     $0.85   \n",
              "4          Chicken Breast                                     $0.86   \n",
              "\n",
              "  Cost per package  Total Protein per package (g) Vegetarian? Vegan?  \\\n",
              "0        $4.29/gal                            133           T      F   \n",
              "1         $1.95/lb                             49           F      F   \n",
              "2         $3.79/lb                            112           T      T   \n",
              "3        $5.19/gal                            123           T      F   \n",
              "4         $5.89/lb                            139           F      F   \n",
              "\n",
              "                                               Notes  \n",
              "0                                                NaN  \n",
              "1  Price includes bones which are inedible. Chick...  \n",
              "2                                                NaN  \n",
              "3                                                NaN  \n",
              "4                                                NaN  "
            ],
            "text/html": [
              "\n",
              "  <div id=\"df-21aaece9-09a5-4c85-9995-994428a4ce97\">\n",
              "    <div class=\"colab-df-container\">\n",
              "      <div>\n",
              "<style scoped>\n",
              "    .dataframe tbody tr th:only-of-type {\n",
              "        vertical-align: middle;\n",
              "    }\n",
              "\n",
              "    .dataframe tbody tr th {\n",
              "        vertical-align: top;\n",
              "    }\n",
              "\n",
              "    .dataframe thead th {\n",
              "        text-align: right;\n",
              "    }\n",
              "</style>\n",
              "<table border=\"1\" class=\"dataframe\">\n",
              "  <thead>\n",
              "    <tr style=\"text-align: right;\">\n",
              "      <th></th>\n",
              "      <th>Protein Source</th>\n",
              "      <th>Cost per 20 Grams of Protein (US Dollars)</th>\n",
              "      <th>Cost per package</th>\n",
              "      <th>Total Protein per package (g)</th>\n",
              "      <th>Vegetarian?</th>\n",
              "      <th>Vegan?</th>\n",
              "      <th>Notes</th>\n",
              "    </tr>\n",
              "  </thead>\n",
              "  <tbody>\n",
              "    <tr>\n",
              "      <th>0</th>\n",
              "      <td>Skim Milk</td>\n",
              "      <td>$0.65</td>\n",
              "      <td>$4.29/gal</td>\n",
              "      <td>133</td>\n",
              "      <td>T</td>\n",
              "      <td>F</td>\n",
              "      <td>NaN</td>\n",
              "    </tr>\n",
              "    <tr>\n",
              "      <th>1</th>\n",
              "      <td>Chicken Legs (bone-in)</td>\n",
              "      <td>$0.65</td>\n",
              "      <td>$1.95/lb</td>\n",
              "      <td>49</td>\n",
              "      <td>F</td>\n",
              "      <td>F</td>\n",
              "      <td>Price includes bones which are inedible. Chick...</td>\n",
              "    </tr>\n",
              "    <tr>\n",
              "      <th>2</th>\n",
              "      <td>Peanuts</td>\n",
              "      <td>$0.68</td>\n",
              "      <td>$3.79/lb</td>\n",
              "      <td>112</td>\n",
              "      <td>T</td>\n",
              "      <td>T</td>\n",
              "      <td>NaN</td>\n",
              "    </tr>\n",
              "    <tr>\n",
              "      <th>3</th>\n",
              "      <td>Whole Milk</td>\n",
              "      <td>$0.85</td>\n",
              "      <td>$5.19/gal</td>\n",
              "      <td>123</td>\n",
              "      <td>T</td>\n",
              "      <td>F</td>\n",
              "      <td>NaN</td>\n",
              "    </tr>\n",
              "    <tr>\n",
              "      <th>4</th>\n",
              "      <td>Chicken Breast</td>\n",
              "      <td>$0.86</td>\n",
              "      <td>$5.89/lb</td>\n",
              "      <td>139</td>\n",
              "      <td>F</td>\n",
              "      <td>F</td>\n",
              "      <td>NaN</td>\n",
              "    </tr>\n",
              "  </tbody>\n",
              "</table>\n",
              "</div>\n",
              "      <button class=\"colab-df-convert\" onclick=\"convertToInteractive('df-21aaece9-09a5-4c85-9995-994428a4ce97')\"\n",
              "              title=\"Convert this dataframe to an interactive table.\"\n",
              "              style=\"display:none;\">\n",
              "        \n",
              "  <svg xmlns=\"http://www.w3.org/2000/svg\" height=\"24px\"viewBox=\"0 0 24 24\"\n",
              "       width=\"24px\">\n",
              "    <path d=\"M0 0h24v24H0V0z\" fill=\"none\"/>\n",
              "    <path d=\"M18.56 5.44l.94 2.06.94-2.06 2.06-.94-2.06-.94-.94-2.06-.94 2.06-2.06.94zm-11 1L8.5 8.5l.94-2.06 2.06-.94-2.06-.94L8.5 2.5l-.94 2.06-2.06.94zm10 10l.94 2.06.94-2.06 2.06-.94-2.06-.94-.94-2.06-.94 2.06-2.06.94z\"/><path d=\"M17.41 7.96l-1.37-1.37c-.4-.4-.92-.59-1.43-.59-.52 0-1.04.2-1.43.59L10.3 9.45l-7.72 7.72c-.78.78-.78 2.05 0 2.83L4 21.41c.39.39.9.59 1.41.59.51 0 1.02-.2 1.41-.59l7.78-7.78 2.81-2.81c.8-.78.8-2.07 0-2.86zM5.41 20L4 18.59l7.72-7.72 1.47 1.35L5.41 20z\"/>\n",
              "  </svg>\n",
              "      </button>\n",
              "      \n",
              "  <style>\n",
              "    .colab-df-container {\n",
              "      display:flex;\n",
              "      flex-wrap:wrap;\n",
              "      gap: 12px;\n",
              "    }\n",
              "\n",
              "    .colab-df-convert {\n",
              "      background-color: #E8F0FE;\n",
              "      border: none;\n",
              "      border-radius: 50%;\n",
              "      cursor: pointer;\n",
              "      display: none;\n",
              "      fill: #1967D2;\n",
              "      height: 32px;\n",
              "      padding: 0 0 0 0;\n",
              "      width: 32px;\n",
              "    }\n",
              "\n",
              "    .colab-df-convert:hover {\n",
              "      background-color: #E2EBFA;\n",
              "      box-shadow: 0px 1px 2px rgba(60, 64, 67, 0.3), 0px 1px 3px 1px rgba(60, 64, 67, 0.15);\n",
              "      fill: #174EA6;\n",
              "    }\n",
              "\n",
              "    [theme=dark] .colab-df-convert {\n",
              "      background-color: #3B4455;\n",
              "      fill: #D2E3FC;\n",
              "    }\n",
              "\n",
              "    [theme=dark] .colab-df-convert:hover {\n",
              "      background-color: #434B5C;\n",
              "      box-shadow: 0px 1px 3px 1px rgba(0, 0, 0, 0.15);\n",
              "      filter: drop-shadow(0px 1px 2px rgba(0, 0, 0, 0.3));\n",
              "      fill: #FFFFFF;\n",
              "    }\n",
              "  </style>\n",
              "\n",
              "      <script>\n",
              "        const buttonEl =\n",
              "          document.querySelector('#df-21aaece9-09a5-4c85-9995-994428a4ce97 button.colab-df-convert');\n",
              "        buttonEl.style.display =\n",
              "          google.colab.kernel.accessAllowed ? 'block' : 'none';\n",
              "\n",
              "        async function convertToInteractive(key) {\n",
              "          const element = document.querySelector('#df-21aaece9-09a5-4c85-9995-994428a4ce97');\n",
              "          const dataTable =\n",
              "            await google.colab.kernel.invokeFunction('convertToInteractive',\n",
              "                                                     [key], {});\n",
              "          if (!dataTable) return;\n",
              "\n",
              "          const docLinkHtml = 'Like what you see? Visit the ' +\n",
              "            '<a target=\"_blank\" href=https://colab.research.google.com/notebooks/data_table.ipynb>data table notebook</a>'\n",
              "            + ' to learn more about interactive tables.';\n",
              "          element.innerHTML = '';\n",
              "          dataTable['output_type'] = 'display_data';\n",
              "          await google.colab.output.renderOutput(dataTable, element);\n",
              "          const docLink = document.createElement('div');\n",
              "          docLink.innerHTML = docLinkHtml;\n",
              "          element.appendChild(docLink);\n",
              "        }\n",
              "      </script>\n",
              "    </div>\n",
              "  </div>\n",
              "  "
            ]
          },
          "metadata": {},
          "execution_count": 2
        }
      ]
    },
    {
      "cell_type": "code",
      "source": [
        "def clean_currency(x):\n",
        "  if isinstance(x, str):\n",
        "    return(x.replace('$', '').replace(',', ''))\n",
        "  return(x)"
      ],
      "metadata": {
        "id": "v0xWA53f9POW"
      },
      "execution_count": null,
      "outputs": []
    },
    {
      "cell_type": "code",
      "source": [
        "df['Vegetarian?'].replace({'T' : 'Yes'}, inplace = True)\n",
        "df['Vegetarian?'].replace({'F' : 'No'}, inplace = True)"
      ],
      "metadata": {
        "id": "twXXUklX-oR_"
      },
      "execution_count": null,
      "outputs": []
    },
    {
      "cell_type": "code",
      "source": [
        "df['Vegetarian?']"
      ],
      "metadata": {
        "colab": {
          "base_uri": "https://localhost:8080/"
        },
        "id": "CWRGzOLj_I_N",
        "outputId": "c4ffeb24-df64-4fe2-bf9a-5831be1cc99a"
      },
      "execution_count": null,
      "outputs": [
        {
          "output_type": "execute_result",
          "data": {
            "text/plain": [
              "0     Yes\n",
              "1      No\n",
              "2     Yes\n",
              "3     Yes\n",
              "4      No\n",
              "5      No\n",
              "6     Yes\n",
              "7     Yes\n",
              "8     Yes\n",
              "9     Yes\n",
              "10    Yes\n",
              "11     No\n",
              "12     No\n",
              "13     No\n",
              "14    Yes\n",
              "15     No\n",
              "16    Yes\n",
              "17     No\n",
              "18    Yes\n",
              "19     No\n",
              "20     No\n",
              "21     No\n",
              "Name: Vegetarian?, dtype: object"
            ]
          },
          "metadata": {},
          "execution_count": 10
        }
      ]
    },
    {
      "cell_type": "code",
      "source": [
        "priceper = df['Cost per 20 Grams of Protein (US Dollars)'].apply(clean_currency).astype('float')"
      ],
      "metadata": {
        "id": "F-JFf17368gQ"
      },
      "execution_count": null,
      "outputs": []
    },
    {
      "cell_type": "code",
      "source": [
        "priceper"
      ],
      "metadata": {
        "colab": {
          "base_uri": "https://localhost:8080/"
        },
        "id": "qPnRrQ2G9_Yy",
        "outputId": "f31e885c-3d73-43c3-a58f-5fac52afea4e"
      },
      "execution_count": null,
      "outputs": [
        {
          "output_type": "execute_result",
          "data": {
            "text/plain": [
              "0     0.65\n",
              "1     0.65\n",
              "2     0.68\n",
              "3     0.85\n",
              "4     0.86\n",
              "5     0.95\n",
              "6     1.03\n",
              "7     1.12\n",
              "8     1.14\n",
              "9     1.16\n",
              "10    1.23\n",
              "11    1.38\n",
              "12    1.39\n",
              "13    1.41\n",
              "14    1.44\n",
              "15    1.49\n",
              "16    1.50\n",
              "17    1.65\n",
              "18    1.66\n",
              "19    1.69\n",
              "20    2.35\n",
              "21    3.54\n",
              "Name: Cost per 20 Grams of Protein (US Dollars), dtype: float64"
            ]
          },
          "metadata": {},
          "execution_count": 7
        }
      ]
    },
    {
      "cell_type": "code",
      "source": [
        "sns.barplot(data = df, x = 'Vegetarian?', y = priceper)"
      ],
      "metadata": {
        "colab": {
          "base_uri": "https://localhost:8080/",
          "height": 378
        },
        "id": "f1DHEE7K22oq",
        "outputId": "0ff11bfb-b3fa-4276-8c5d-f3aec4694ad5"
      },
      "execution_count": null,
      "outputs": [
        {
          "output_type": "execute_result",
          "data": {
            "text/plain": [
              "<matplotlib.axes._subplots.AxesSubplot at 0x7f042880d8b0>"
            ]
          },
          "metadata": {},
          "execution_count": 18
        },
        {
          "output_type": "display_data",
          "data": {
            "text/plain": [
              "<Figure size 576x396 with 1 Axes>"
            ],
            "image/png": "[encoded data removed]"
          },
          "metadata": {}
        }
      ]
    },
    {
      "cell_type": "markdown",
      "source": [
        "The visual above shows that Vegetarian foods on average cost less per 20 grams of protein. "
      ],
      "metadata": {
        "id": "hTvOqOAABPoE"
      }
    }
  ]
}